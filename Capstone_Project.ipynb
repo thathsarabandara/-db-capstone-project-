{
 "cells": [
  {
   "cell_type": "code",
   "execution_count": 19,
   "id": "8b012835-d7a8-44de-a547-30fc4c5d3701",
   "metadata": {},
   "outputs": [
    {
     "name": "stdout",
     "output_type": "stream",
     "text": [
      "Requirement already satisfied: mysql-connector-python in c:\\users\\thath\\appdata\\local\\programs\\python\\python312\\lib\\site-packages (9.1.0)\n"
     ]
    }
   ],
   "source": [
    "!pip install mysql-connector-python"
   ]
  },
  {
   "cell_type": "code",
   "execution_count": 20,
   "id": "1c2273f9-7977-4ed1-aa62-41185780c02b",
   "metadata": {},
   "outputs": [
    {
     "name": "stdout",
     "output_type": "stream",
     "text": [
      "Requirement already satisfied: mysql-connector-python in c:\\users\\thath\\appdata\\local\\programs\\python\\python312\\lib\\site-packages (9.1.0)\n"
     ]
    }
   ],
   "source": [
    "!pip install --upgrade mysql-connector-python"
   ]
  },
  {
   "cell_type": "code",
   "execution_count": 23,
   "id": "6da1c467-18f1-4ac1-805b-a460c46cceaa",
   "metadata": {},
   "outputs": [
    {
     "name": "stdout",
     "output_type": "stream",
     "text": [
      "Requirement already satisfied: pymysql in c:\\users\\thath\\appdata\\local\\programs\\python\\python312\\lib\\site-packages (1.1.1)\n",
      "Note: you may need to restart the kernel to use updated packages.\n"
     ]
    }
   ],
   "source": [
    "pip install pymysql"
   ]
  },
  {
   "cell_type": "code",
   "execution_count": 24,
   "id": "938b2654-bfaa-4ce1-8844-2310816269ed",
   "metadata": {},
   "outputs": [],
   "source": [
    "import pymysql as connector"
   ]
  },
  {
   "cell_type": "code",
   "execution_count": 26,
   "id": "73795db4-c1f9-4c1c-b773-ecca8cfae9d5",
   "metadata": {},
   "outputs": [],
   "source": [
    "connection = connector.connect(\n",
    "    user=\"root\",\n",
    "    password=\"Bandara2002@\",  # Make sure to set your actual password here\n",
    "    port=3306,\n",
    "    host=\"localhost\",\n",
    "    database=\"little_lemon\"\n",
    ")"
   ]
  },
  {
   "cell_type": "code",
   "execution_count": 31,
   "id": "bb8ed8c6-7ab1-4f48-8fa4-5a74f6027b43",
   "metadata": {},
   "outputs": [],
   "source": [
    "cursor = connection.cursor()"
   ]
  },
  {
   "cell_type": "code",
   "execution_count": 32,
   "id": "7fdf11f9-6436-4bf3-9f8d-385626c4e3ad",
   "metadata": {},
   "outputs": [],
   "source": [
    "show_tables_query = \"SHOW TABLES\""
   ]
  },
  {
   "cell_type": "code",
   "execution_count": 33,
   "id": "fbebe87b-ddd2-45bc-99bb-f8f5f98a22b0",
   "metadata": {},
   "outputs": [
    {
     "data": {
      "text/plain": [
       "10"
      ]
     },
     "execution_count": 33,
     "metadata": {},
     "output_type": "execute_result"
    }
   ],
   "source": [
    "cursor.execute(show_tables_query)"
   ]
  },
  {
   "cell_type": "code",
   "execution_count": 34,
   "id": "b0b7836c-e845-4ae2-8f2c-4b3b1206558e",
   "metadata": {},
   "outputs": [],
   "source": [
    "result = cursor.fetchall()"
   ]
  },
  {
   "cell_type": "code",
   "execution_count": 35,
   "id": "10624897-7593-4bc8-84a8-2142da2f1b26",
   "metadata": {},
   "outputs": [
    {
     "name": "stdout",
     "output_type": "stream",
     "text": [
      "(('bookings',), ('customer_details',), ('customerordersview',), ('menu',), ('menuitems',), ('menunamesview',), ('order delivery status',), ('orders',), ('ordersview',), ('staff information',))\n"
     ]
    }
   ],
   "source": [
    "print(result)"
   ]
  },
  {
   "cell_type": "code",
   "execution_count": 38,
   "id": "d9078571-e37a-46fb-b71e-69fcb681630c",
   "metadata": {},
   "outputs": [],
   "source": [
    "query = \"\"\"\n",
    "SELECT \n",
    "    CONCAT(c.FirstName, ' ', c.LastName) AS FullName,\n",
    "    c.Email,\n",
    "    c.PhoneNumber,\n",
    "    o.TotalCost\n",
    "FROM \n",
    "    Customer_details AS c\n",
    "INNER JOIN \n",
    "    Orders AS o\n",
    "ON \n",
    "    c.CustomerID = o.CustomerID\n",
    "WHERE \n",
    "    o.TotalCost > 60;\n",
    "\"\"\"\n"
   ]
  },
  {
   "cell_type": "code",
   "execution_count": 39,
   "id": "668b2f47-80dc-483a-8192-7ac479ffcb4b",
   "metadata": {},
   "outputs": [
    {
     "data": {
      "text/plain": [
       "0"
      ]
     },
     "execution_count": 39,
     "metadata": {},
     "output_type": "execute_result"
    }
   ],
   "source": [
    "cursor.execute(query)"
   ]
  },
  {
   "cell_type": "code",
   "execution_count": 40,
   "id": "929b68cd-3646-4dcf-8431-b87951f6bbfe",
   "metadata": {},
   "outputs": [],
   "source": [
    "results = cursor.fetchall()\n",
    "for row in results:\n",
    "    print(f\"Name: {row[0]}, Email: {row[1]}, Phone: {row[2]}, Total Cost: {row[3]}\")\n"
   ]
  },
  {
   "cell_type": "code",
   "execution_count": null,
   "id": "779bfa9a-c1e1-46c6-8f92-7b69968e85cc",
   "metadata": {},
   "outputs": [],
   "source": []
  }
 ],
 "metadata": {
  "kernelspec": {
   "display_name": "Python 3 (ipykernel)",
   "language": "python",
   "name": "python3"
  },
  "language_info": {
   "codemirror_mode": {
    "name": "ipython",
    "version": 3
   },
   "file_extension": ".py",
   "mimetype": "text/x-python",
   "name": "python",
   "nbconvert_exporter": "python",
   "pygments_lexer": "ipython3",
   "version": "3.12.4"
  }
 },
 "nbformat": 4,
 "nbformat_minor": 5
}
